{
  "nbformat": 4,
  "nbformat_minor": 0,
  "metadata": {
    "colab": {
      "name": "TF-python_to_TFjs.ipynb",
      "provenance": [],
      "collapsed_sections": [],
      "toc_visible": true,
      "machine_shape": "hm",
      "include_colab_link": true
    },
    "kernelspec": {
      "name": "python3",
      "display_name": "Python 3"
    },
    "accelerator": "GPU"
  },
  "cells": [
    {
      "cell_type": "markdown",
      "metadata": {
        "id": "view-in-github",
        "colab_type": "text"
      },
      "source": [
        "<a href=\"https://colab.research.google.com/gist/ccofres/b0192c2513c83a6df7981ea2152d5139/tf-python_to_tfjs.ipynb\" target=\"_parent\"><img src=\"https://colab.research.google.com/assets/colab-badge.svg\" alt=\"Open In Colab\"/></a>"
      ]
    },
    {
      "cell_type": "markdown",
      "metadata": {
        "id": "XDt6TrNmGfnv"
      },
      "source": [
        "# TensorFlow Python a TensorFlow.js "
      ]
    },
    {
      "cell_type": "markdown",
      "metadata": {
        "id": "zoYEZ0_NGG2f"
      },
      "source": [
        "#### Instalar tensorflowjs para usar convertidor"
      ]
    },
    {
      "cell_type": "code",
      "metadata": {
        "id": "OmnKqTtR5yeP"
      },
      "source": [
        "!pip install tensorflowjs"
      ],
      "execution_count": null,
      "outputs": []
    },
    {
      "cell_type": "code",
      "metadata": {
        "id": "Lt9G1ys754jX"
      },
      "source": [
        "import tensorflow as tf\n",
        "\n",
        "print('\\u2022 Using TensorFlow Version:', tf.__version__)"
      ],
      "execution_count": null,
      "outputs": []
    },
    {
      "cell_type": "markdown",
      "metadata": {
        "id": "n2Ft_D5HGRNx"
      },
      "source": [
        "#### Montar Google Drive"
      ]
    },
    {
      "cell_type": "code",
      "metadata": {
        "id": "3U0jnb4ol-UC"
      },
      "source": [
        "from google.colab import drive\n",
        "drive.mount('/content/drive')"
      ],
      "execution_count": null,
      "outputs": []
    },
    {
      "cell_type": "markdown",
      "metadata": {
        "id": "n7obSSXbGtkn"
      },
      "source": [
        "## Entrenar modelo"
      ]
    },
    {
      "cell_type": "code",
      "metadata": {
        "id": "PL62xnEAGxbW",
        "outputId": "c5e2999a-8dce-469a-9378-8f0c4ef72aaf",
        "colab": {
          "base_uri": "https://localhost:8080/"
        }
      },
      "source": [
        "print('Hello World')"
      ],
      "execution_count": 3,
      "outputs": [
        {
          "output_type": "stream",
          "text": [
            "Hello World\n"
          ],
          "name": "stdout"
        }
      ]
    },
    {
      "cell_type": "markdown",
      "metadata": {
        "id": "Yy7UhasLG6Ov"
      },
      "source": [
        "## Guardado de modelo\n"
      ]
    },
    {
      "cell_type": "code",
      "metadata": {
        "id": "aF28ganGG9FN"
      },
      "source": [
        "import time\n",
        "saved_model_path = \"./{}.h5\".format(int(time.time()))\n",
        "\n",
        "model.save(saved_model_path)"
      ],
      "execution_count": null,
      "outputs": []
    },
    {
      "cell_type": "markdown",
      "metadata": {
        "id": "Bsd84KdrG-95"
      },
      "source": [
        "## Conversion final a TensorFlow.js"
      ]
    },
    {
      "cell_type": "code",
      "metadata": {
        "id": "ep7D3yk1HDPu"
      },
      "source": [
        "!tensorflowjs_converter --input_format=keras {saved_model_path} ./"
      ],
      "execution_count": null,
      "outputs": []
    }
  ]
}